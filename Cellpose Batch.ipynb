{
 "cells": [
  {
   "cell_type": "code",
   "execution_count": null,
   "id": "a8e6935b",
   "metadata": {},
   "outputs": [],
   "source": [
    "from cellpose import models, io, core\n",
    "import os\n",
    "import glob\n",
    "from PIL import Image\n",
    "import shutil\n",
    "import time\n",
    "\n",
    "# Text styling\n",
    "BOLD = '\\033[1m'\n",
    "UNDERLINE = '\\033[4m'\n",
    "END = '\\033[0m'\n",
    "\n",
    "# Check if GPU is being used\n",
    "if not core.use_gpu(): \n",
    "  print(BOLD+UNDERLINE+'You do not have GPU access.'+END)\n",
    "  use_GPU=False\n",
    "else:\n",
    "  print(BOLD+UNDERLINE+\"You have access to the GPU.\"+END+\"\\nDetails are:\")\n",
    "  print(\"*************************************************\")\n",
    "  !nvidia-smi\n",
    "  use_GPU=True\n",
    "\n",
    "print(\"*************************************************\")\n",
    "print(\"Libraries imported and configured\")"
   ]
  },
  {
   "cell_type": "code",
   "execution_count": 6,
   "id": "7f7dc2b8",
   "metadata": {},
   "outputs": [],
   "source": [
    "# Filepath to images:\n",
    "inputDir = r\"G:\\Shared\\lab_members\\undergraduate_researchers\\yung_maxx\\Experiments\\Cellpose 05-01-2024\\Run 1 - Custom Model\"\n",
    "\n",
    "# Model Setup:\n",
    "modelChoice = \"cyto2\" # nuclei, cyto2\n",
    "\n",
    "customModel = True # True if you want to use a custom model & then set the path below. Otherwise, \"False\". If true, it will use the below model over the above modelChoice parameter.\n",
    "customModelPath = r\"C:\\Users\\myung11\\.cellpose\\models\\model_FITC\"\n",
    "imageSuffix = \"Any\" # DAPI, CY5, Any\n",
    "\n",
    "# Misc Setup\n",
    "cellDiameter = None # if None, diameter of cells is automatically estimated\n",
    "cellFlowThreshold = 2 # threshold for cell probability. Increase if you expect more ROIs.\n",
    "cellProbabilityThreshold = -0.5 # threshold for cell probability. Increase this threshold if cellpose is returning too ROIs particularly from dim areas.\n",
    "\n",
    "# Segmentation Settings\n",
    "# grayscale=0, R=1, G=2, B=3\n",
    "# channels = [cytoplasm, nucleus]\n",
    "# if NUCLEUS channel does not exist, set the second channel to 0\n",
    "# channels = [0,0] IF YOU HAVE GRAYSCALE\n",
    "# channels = [2,3] IF YOU HAVE G=cytoplasm and B=nucleus\n",
    "# channels = [2,1] IF YOU HAVE G=cytoplasm and R=nucleus\n",
    "\n",
    "channels = [0,0]"
   ]
  },
  {
   "cell_type": "code",
   "execution_count": 7,
   "id": "af2754a4",
   "metadata": {},
   "outputs": [
    {
     "name": "stdout",
     "output_type": "stream",
     "text": [
      "30 total files found in directory.\n",
      "All 30 files will be processed.\n",
      "Non-TIFF files removed from output directory.\n",
      "\n",
      "Results will be saved in: G:\\Shared\\lab_members\\undergraduate_researchers\\yung_maxx\\Experiments\\Cellpose 05-01-2024\\Run 1 - Custom Model\n",
      "Using custom model from: C:\\Users\\myung11\\.cellpose\\models\\model_FITC\n",
      "\n",
      "Cell diameter not specified (set to 0). Automatically estimating cell diameter.\n",
      "Flow threshold: 2\n",
      "Probability threshold: -0.5\n",
      "\n",
      "WARNING: Image Mouse 2111.643_Slide3_Slice10L_20X_FITC.tif has too many pixels, segmentation might take longer. Please consider resizing the image to a smaller size.\n",
      "WARNING: Image Mouse 2111.643_Slide3_Slice1L_20X_FITC.tif has too many pixels, segmentation might take longer. Please consider resizing the image to a smaller size.\n",
      "WARNING: Image Mouse 2111.643_Slide3_Slice2L_20X_FITC.tif has too many pixels, segmentation might take longer. Please consider resizing the image to a smaller size.\n",
      "WARNING: Image Mouse 2111.643_Slide3_Slice4L_20X_FITC.tif has too many pixels, segmentation might take longer. Please consider resizing the image to a smaller size.\n",
      "WARNING: Image Mouse 2111.643_Slide3_Slice5L_20X_FITC.tif has too many pixels, segmentation might take longer. Please consider resizing the image to a smaller size.\n",
      "WARNING: Image Mouse 2111.643_Slide3_Slice7L_20X_FITC.tif has too many pixels, segmentation might take longer. Please consider resizing the image to a smaller size.\n",
      "WARNING: Image Mouse 2111.643_Slide4_Slice10L_20X_FITC.tif has too many pixels, segmentation might take longer. Please consider resizing the image to a smaller size.\n",
      "WARNING: Image Mouse 2111.643_Slide4_Slice11L_20X_FITC.tif has too many pixels, segmentation might take longer. Please consider resizing the image to a smaller size.\n",
      "WARNING: Image Mouse 2111.643_Slide4_Slice12L_20X_FITC.tif has too many pixels, segmentation might take longer. Please consider resizing the image to a smaller size.\n",
      "WARNING: Image Mouse 2111.643_Slide4_Slice1L_20X_FITC.tif has too many pixels, segmentation might take longer. Please consider resizing the image to a smaller size.\n",
      "WARNING: Image Mouse 2111.643_Slide4_Slice2L_20X_FITC.tif has too many pixels, segmentation might take longer. Please consider resizing the image to a smaller size.\n",
      "WARNING: Image Mouse 2111.643_Slide4_Slice3L_20X_FITC.tif has too many pixels, segmentation might take longer. Please consider resizing the image to a smaller size.\n",
      "WARNING: Image Mouse 2111.643_Slide4_Slice4L_20X_FITC.tif has too many pixels, segmentation might take longer. Please consider resizing the image to a smaller size.\n",
      "WARNING: Image Mouse 2111.643_Slide4_Slice5L_20X_FITC.tif has too many pixels, segmentation might take longer. Please consider resizing the image to a smaller size.\n",
      "WARNING: Image Mouse 2111.643_Slide4_Slice6L_20X_FITC.tif has too many pixels, segmentation might take longer. Please consider resizing the image to a smaller size.\n",
      "WARNING: Image Mouse 2111.643_Slide4_Slice7L_20X_FITC.tif has too many pixels, segmentation might take longer. Please consider resizing the image to a smaller size.\n",
      "WARNING: Image Mouse 2111.643_Slide4_Slice8L_20X_FITC.tif has too many pixels, segmentation might take longer. Please consider resizing the image to a smaller size.\n",
      "WARNING: Image Mouse 2111.643_Slide4_Slice9L_20X_FITC.tif has too many pixels, segmentation might take longer. Please consider resizing the image to a smaller size.\n",
      "WARNING: Image Mouse 2111.644_Slide3_Slice10R_20X_FITC.tif has too many pixels, segmentation might take longer. Please consider resizing the image to a smaller size.\n",
      "WARNING: Image Mouse 2111.644_Slide3_Slice11L_20X_FITC.tif has too many pixels, segmentation might take longer. Please consider resizing the image to a smaller size.\n",
      "WARNING: Image Mouse 2111.644_Slide3_Slice12R_20X_FITC.tif has too many pixels, segmentation might take longer. Please consider resizing the image to a smaller size.\n",
      "WARNING: Image Mouse 2111.644_Slide3_Slice1R_20X_FITC.tif has too many pixels, segmentation might take longer. Please consider resizing the image to a smaller size.\n",
      "WARNING: Image Mouse 2111.644_Slide3_Slice2L_20X_FITC.tif has too many pixels, segmentation might take longer. Please consider resizing the image to a smaller size.\n",
      "WARNING: Image Mouse 2111.644_Slide3_Slice3L_20X_FITC.tif has too many pixels, segmentation might take longer. Please consider resizing the image to a smaller size.\n",
      "WARNING: Image Mouse 2111.644_Slide3_Slice4L_20X_FITC.tif has too many pixels, segmentation might take longer. Please consider resizing the image to a smaller size.\n",
      "WARNING: Image Mouse 2111.644_Slide3_Slice5L_20X_FITC.tif has too many pixels, segmentation might take longer. Please consider resizing the image to a smaller size.\n",
      "WARNING: Image Mouse 2111.644_Slide3_Slice6R_20X_FITC.tif has too many pixels, segmentation might take longer. Please consider resizing the image to a smaller size.\n",
      "WARNING: Image Mouse 2111.644_Slide3_Slice7L_20X_FITC.tif has too many pixels, segmentation might take longer. Please consider resizing the image to a smaller size.\n",
      "WARNING: Image Mouse 2111.644_Slide3_Slice8R_20X_FITC.tif has too many pixels, segmentation might take longer. Please consider resizing the image to a smaller size.\n",
      "WARNING: Image Mouse 2111.644_Slide3_Slice9L_20X_FITC.tif has too many pixels, segmentation might take longer. Please consider resizing the image to a smaller size.\n",
      "\n",
      "Segmentation will begin now. Estimated time for completion is 39 minutes.\n",
      "\n",
      "Processing: Mouse 2111.643_Slide3_Slice10L_20X_FITC.tif\n"
     ]
    },
    {
     "name": "stderr",
     "output_type": "stream",
     "text": [
      "Multiprocessing is disabled for Windows\n"
     ]
    },
    {
     "name": "stdout",
     "output_type": "stream",
     "text": [
      "Processed: Mouse 2111.643_Slide3_Slice10L_20X_FITC.tif\n",
      "Processing: Mouse 2111.643_Slide3_Slice1L_20X_FITC.tif\n"
     ]
    },
    {
     "name": "stderr",
     "output_type": "stream",
     "text": [
      "Multiprocessing is disabled for Windows\n"
     ]
    },
    {
     "name": "stdout",
     "output_type": "stream",
     "text": [
      "Processed: Mouse 2111.643_Slide3_Slice1L_20X_FITC.tif\n",
      "Processing: Mouse 2111.643_Slide3_Slice2L_20X_FITC.tif\n"
     ]
    },
    {
     "name": "stderr",
     "output_type": "stream",
     "text": [
      "Multiprocessing is disabled for Windows\n"
     ]
    },
    {
     "name": "stdout",
     "output_type": "stream",
     "text": [
      "Processed: Mouse 2111.643_Slide3_Slice2L_20X_FITC.tif\n",
      "Processing: Mouse 2111.643_Slide3_Slice4L_20X_FITC.tif\n"
     ]
    },
    {
     "name": "stderr",
     "output_type": "stream",
     "text": [
      "Multiprocessing is disabled for Windows\n"
     ]
    },
    {
     "name": "stdout",
     "output_type": "stream",
     "text": [
      "Processed: Mouse 2111.643_Slide3_Slice4L_20X_FITC.tif\n",
      "Processing: Mouse 2111.643_Slide3_Slice5L_20X_FITC.tif\n"
     ]
    },
    {
     "name": "stderr",
     "output_type": "stream",
     "text": [
      "Multiprocessing is disabled for Windows\n"
     ]
    },
    {
     "name": "stdout",
     "output_type": "stream",
     "text": [
      "Processed: Mouse 2111.643_Slide3_Slice5L_20X_FITC.tif\n",
      "Processing: Mouse 2111.643_Slide3_Slice7L_20X_FITC.tif\n"
     ]
    }
   ],
   "source": [
    "os.chdir(inputDir)\n",
    "files = glob.glob('*.tif')\n",
    "print(str(len(files)) + \" total files found in directory.\")\n",
    "outputDir = inputDir\n",
    "\n",
    "if os.path.exists(outputDir + \"/ImageJ Results/\"):\n",
    "    shutil.rmtree(outputDir + \"/ImageJ Results/\")\n",
    "os.makedirs(outputDir + \"/ImageJ Results/\")\n",
    "\n",
    "# Filters\n",
    "def delete_non_tif(directory):\n",
    "    for filename in glob.glob(os.path.join(directory, '*')):\n",
    "        if os.path.isdir(filename):\n",
    "            delete_non_tif(filename)\n",
    "        elif not filename.endswith('.tif'):\n",
    "            os.remove(filename)\n",
    "\n",
    "delete_non_tif(outputDir)\n",
    "\n",
    "if imageSuffix == \"DAPI\":\n",
    "    files = glob.glob(os.path.join(outputDir, \"*_DAPI.tif\"))\n",
    "    print(str(len(files)) + \" DAPI files will be processed.\")\n",
    "elif imageSuffix == \"CY5\":\n",
    "    files = glob.glob(os.path.join(outputDir, \"*_CY5.tif\"))\n",
    "    print(str(len(files)) + \" CY5 files will be processed.\")\n",
    "else: \n",
    "    files = files\n",
    "    print(\"All \" + str(len(files)) + \" files will be processed.\")\n",
    "    \n",
    "print(\"Non-TIFF files removed from output directory.\")\n",
    "print(\"\\nResults will be saved in: \" + outputDir)\n",
    "\n",
    "# Model Determination\n",
    "if customModel is True:\n",
    "\tmodel = models.CellposeModel(gpu=use_GPU, pretrained_model=customModelPath)\n",
    "\tprint(\"Using custom model from: \" + customModelPath)\n",
    "else:\n",
    "\tmodel = models.Cellpose(gpu=use_GPU, model_type=modelChoice)\n",
    "\tprint(\"Using default model: \" + modelChoice)\n",
    "  \n",
    "if cellDiameter is None:\n",
    "    cellDiameter = 0\n",
    "    print(\"\\nCell diameter not specified (set to 0). Automatically estimating cell diameter.\")\n",
    "else:\n",
    "    print(\"\\nCell diameter: \" + str(cellDiameter))\n",
    "  \n",
    "print(\"Flow threshold: \" + str(cellFlowThreshold) + \"\\nProbability threshold: \" + str(cellProbabilityThreshold) + \"\\n\")\n",
    "\n",
    "# Pixel Count\n",
    "max_pixel_count = 9000000\n",
    "pixelCount = 0\n",
    "\n",
    "for file in files:\n",
    "    with Image.open(file) as img:\n",
    "        width, height = img.size\n",
    "        pixel_count = width * height\n",
    "        pixelCount += pixel_count\n",
    "\n",
    "        if pixel_count > max_pixel_count:\n",
    "            print(f\"WARNING: Image {file} has too many pixels, segmentation might take longer. Please consider resizing the image to a smaller size.\")\n",
    "            \n",
    "print(\"\\nSegmentation will begin now. Estimated time for completion is \" + str(pixelCount//16000000) + \" minutes.\\n\")\n",
    "\n",
    "start_time = time.time()\n",
    "\n",
    "# Processing\n",
    "for i in files:\n",
    "    image = io.imread(i)\n",
    "    print(\"Processing: \" + i)\n",
    "    if customModel is True:\n",
    "        masks, flows, styles = model.eval(image, diameter=cellDiameter, flow_threshold=cellFlowThreshold,cellprob_threshold=cellProbabilityThreshold, channels=channels)\n",
    "    else:\n",
    "        masks, flows, styles, diams = model.eval(image, diameter=cellDiameter, flow_threshold=cellFlowThreshold,cellprob_threshold=cellProbabilityThreshold, channels=channels)\n",
    "    outputName = os.path.join(outputDir, i)\n",
    "    io.save_rois(masks, outputName)\n",
    "    io.masks_flows_to_seg(image, masks, flows, cellDiameter, outputName, channels=channels)\n",
    "    print(\"Processed: \" + i)\n",
    "\n",
    "end_time = time.time()\n",
    " \n",
    "#Save parameters used in Cellpose\n",
    "parametersDir = os.path.join(outputDir, \"Cellpose_Parameters.txt\") \n",
    "outFile=open(parametersDir, \"w\") \n",
    "outFile.write(\"CELLPOSE PARAMETERS\\n\")\n",
    "if customModel is True:\n",
    "    outFile.write(\"Custom Model: \"+ customModelPath + \"\\n\") \n",
    "else:\n",
    "    outFile.write(\"Default Model: \"+ modelChoice + \"\\n\") \n",
    "if cellDiameter == 0:\n",
    "    outFile.write(\"Cell Diameter was estimated since cellDiameter = 0\")\n",
    "else:\n",
    "    outFile.write(\"Diameter: \" + str(cellDiameter) + \"\\n\") \n",
    "\n",
    "outFile.write(\"\\nFlow Threshold: \" + str(cellFlowThreshold)) \n",
    "outFile.write(\"\\nCell Probability Threshold: \" + str(cellProbabilityThreshold) + \"\\n\") \n",
    "outFile.close()\n",
    "\n",
    "print(f\"\\nThe program took {round((end_time-start_time)/60, 1)} minutes to run.\")\n",
    "print(\"Segmentation complete and files saved\")\n",
    "os.startfile(outputDir)"
   ]
  }
 ],
 "metadata": {
  "kernelspec": {
   "display_name": "Python 3 (ipykernel)",
   "language": "python",
   "name": "python3"
  },
  "language_info": {
   "codemirror_mode": {
    "name": "ipython",
    "version": 3
   },
   "file_extension": ".py",
   "mimetype": "text/x-python",
   "name": "python",
   "nbconvert_exporter": "python",
   "pygments_lexer": "ipython3",
   "version": "3.8.18"
  }
 },
 "nbformat": 4,
 "nbformat_minor": 5
}
